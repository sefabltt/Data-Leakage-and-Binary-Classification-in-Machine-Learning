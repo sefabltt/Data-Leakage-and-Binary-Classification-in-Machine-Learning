{
  "nbformat": 4,
  "nbformat_minor": 0,
  "metadata": {
    "colab": {
      "provenance": []
    },
    "kernelspec": {
      "name": "python3",
      "display_name": "Python 3"
    },
    "language_info": {
      "name": "python"
    }
  },
  "cells": [
    {
      "cell_type": "code",
      "execution_count": null,
      "metadata": {
        "id": "tHgR_7A8gEBE"
      },
      "outputs": [],
      "source": [
        "# DATA LEAKAGE\n",
        "\n",
        "# Makine öğreniminde veri sızıntısı, bir algoritmayı eğitmek için kullanılan verilerin, değerlendirdiği konu hakkında beklenmedik ek bilgiler içerdiği bir durumu tanımlar. Esasen, istenen bir eğitim veri kümesinin dışından gelen bilgilerin bir model oluşturmaya yardımcı olması durumudur. Bu tanınmayan veriler, yanlış performans ölçümlerine ve hataların temel nedenini belirlemede zorluğa neden olabilir.\n",
        "# Veri sızıntısı, makine öğreniminin ve modellerinin bugün karşılaştığı en büyük zorluklardan birini oluşturuyor.\n",
        "# Bunu şu şekilde düşünün: Bir sınava çalışırken yanlışlıkla cevapları olan bir öğrenci, konuyu gerçekten anlamadan sınavda başarılı olabilir. Benzer şekilde, veri sızıntısından etkilenen bir model eğitim sırasında olağanüstü performans gösterir ancak gerçek dünya uygulamalarında başarısız olabilir. İşletmeler için bu, yersiz güven, beklenmeyen sonuçlar ve olası mali kayıplarla sonuçlanabilir.\n"
      ]
    },
    {
      "cell_type": "code",
      "source": [
        "# Bölmeden önce tüm veri kümesini ölçekler veya normalleştirirseniz\n",
        "# Bölünmeden önce tüm veri kümesinden yeni özellikler oluşturmak\n",
        "# Eğitim ve test sırasında verilerin doğru bir şekilde bölünmediği uygunsuz veri bölünmesinin de farkında olmak\n",
        "# Doğrulanmamış harici kaynaklar kullanmak, modelin bütünlüğünü tehlikeye atarak ileriye dönük bilgiler sunabilir.\n"
      ],
      "metadata": {
        "id": "t38YbWPwNQOx"
      },
      "execution_count": null,
      "outputs": []
    },
    {
      "cell_type": "code",
      "source": [
        "# Yeterli doğrulamayı sağlamalı ve süreç değişikliklerini izlemelisiniz çünkü bunlar kayıtları gelecekteki içgörülerle doldurabilir ve güvenilmez tahminlere yol açabilir"
      ],
      "metadata": {
        "id": "g2gD01nnNwDY"
      },
      "execution_count": null,
      "outputs": []
    },
    {
      "cell_type": "code",
      "source": [
        "# ML'deki veri sızıntısı büyük ölçüde önemli bir zorluğu temsil eder çünkü sonuçta iyi performans göstermeyen bir model oluşturur. Sonuç olarak, bu modellerin başarı oranları makine öğreniminin etkinliğini belirler."
      ],
      "metadata": {
        "id": "1WhCiaNaN_TN"
      },
      "execution_count": null,
      "outputs": []
    },
    {
      "cell_type": "code",
      "source": [
        "# Uygunsuz Veri Bölme Örneği\n",
        "# Tıbbi bir veri kümesinde, eğitim ve test verilerini rastgele bölmek aşırı uyuma yol açabilir. Aynı durumdaki hastalar her iki kümede de yer alırsa, model belirli hastalıkla ilgili kalıpları öğrenebilir ve test sırasında doğruluğunu artırabilir. İlgili verileri hesaba katmamak, gelecekteki verilerin eğitim bilgilerini etkilemesine ve veri sızıntısına yol açabilir.\n"
      ],
      "metadata": {
        "id": "DouyIRb9PJe5"
      },
      "execution_count": null,
      "outputs": []
    },
    {
      "cell_type": "code",
      "source": [
        "# Doğrulanmamış Harici Veri Kaynağı Örneği\n",
        "# Güvenilmez veya taraflı haberlerin duygu analizi modeline dahil edilmesi, kamuoyunun duygu durumu hakkında yanıltıcı tahminlere yol açacaktır."
      ],
      "metadata": {
        "id": "ToGHAYcsPYEg"
      },
      "execution_count": null,
      "outputs": []
    },
    {
      "cell_type": "code",
      "source": [
        "# Doğrulama ve Proses Değişiklikleri sızıntı Örneği\n",
        "# Zaman serisi verilerini düşünün. Zamansal bağımlılıkları, basit rastgele çapraz doğrulama örneklemesinin kronolojik dinamikleri yakalayamayabileceği anlamına gelir ve sızdırılan gelecekteki veriler testleri etkilerse, bu aşırı iyimser performansla sonuçlanabilir."
      ],
      "metadata": {
        "id": "NmDTtFvAPi0h"
      },
      "execution_count": null,
      "outputs": []
    },
    {
      "cell_type": "code",
      "source": [
        "# Veri sızıntısını tespit etmek, dikkatli ve şüpheci bir yaklaşım sürdürmeyi gerektirir. Süreçleri düzenli olarak gözden geçirmek, performans ölçümlerini eleştirel bir şekilde değerlendirmek ve titiz doğrulama tekniklerini uygulamak, makine öğrenimi modeli bütünlüğünü korumak için olmazsa olmaz stratejilerdir."
      ],
      "metadata": {
        "id": "WQeAC53IPtgI"
      },
      "execution_count": null,
      "outputs": []
    },
    {
      "cell_type": "code",
      "source": [
        "# ÖNEMLİ: Bir model eğitim verilerinde olağanüstü doğruluk gösterirken yeni verilerde düşük performans gösterdiğinde, bu veri sızıntısının açık bir göstergesidir.\n",
        "# Eğitim, doğrulama ve test verilerindeki ölçümlerdeki tutarsızlıklar da kırmızı bayraklar olarak yakından incelenmelidir.\n",
        "# Ayrıca, özellikle beklenmeyen desenler ortaya çıktığında, çakışmayı önlemek ve özellik-hedef korelasyonlarını analiz etmek için yinelenen girdileri tespit edip çözmeniz gerekir. Her veri noktasının yalnızca bir kez görünmesini sağlamak, model bütünlüğünü korur ve sonuçları çarpıtabilecek altta yatan veri desenlerinin şişirilmiş temsillerini en aza indirir. Bunun yerine, yinelenen girdileri çözmek, tahmin modellerini ve karar vermeyi geliştiren anlamlı ilişkilerin tanımlanmasını sağlar."
      ],
      "metadata": {
        "id": "KD_VpwBfP_N5"
      },
      "execution_count": null,
      "outputs": []
    },
    {
      "cell_type": "code",
      "source": [
        "# Model değerlendirmesinde, K katlı çapraz doğrulama ve zaman serisi verileri için katı zamansal doğrulamanın sürdürülmesi gibi teknikler esastır. Bu yaklaşımlar, veri sızıntısını gösterebilecek tutarsızlıkları ortaya çıkarmaya yardımcı olabilir. K katlı durumlarda, veriler parçalara ayrılır ve her bileşen modeli test etmek için kullanılırken kalan parçalar modeli yinelemeli olarak eğitir. Verileri bu şekilde çapraz analiz etmek, anormallikleri ve sızıntıları tespit etme olasılığını artırır. Yine de, zamansal doğrulama, zamansal sırayı koruduğu ve tahmin süresinden sonra herhangi bir verinin kullanılmasını önlediği için de kritik öneme sahiptir. Eğitim verilerinde gelecekteki istatistiklerin vurgulanması, veri sızıntısını belirlemek için veri kümesinin daha yakından incelenmesini teşvik edecektir."
      ],
      "metadata": {
        "id": "B2PcaxkBQqQX"
      },
      "execution_count": null,
      "outputs": []
    },
    {
      "cell_type": "code",
      "source": [
        "# ÖNEMLİ:\n",
        "# Veri Sızıntısı Riskini Nasıl En Aza İndirirsiniz?\n",
        "# Makine öğreniminde veri sızıntısını birçok farklı şekilde en aza indirebilirsiniz. Herhangi bir ön işleme girmeden önce verilerinizi eğitim ve test alt kümelerine bölerek başlayabilirsiniz . Zaman serisi verilerinde kronolojik sırayı koruyun ve daha önceki zaman noktalarıyla ilgili tahminler için sonraki verileri kullanmaktan kaçının.\n",
        "# Son olarak, veri sızıntısını önlemek için güvenli veri yönetimi için özel araçlar ve çerçeveler kullanmayı düşünün. Bu önlemler arasında erişim kontrolleri, yalnızca yetkili personelin kritik verilere erişmesini sağlama, harici tarafların sistemler arasında paylaşılan verileri ihlal edememesi için bilgileri hareketsiz ve geçiş halinde şifreleme ve tüketici gizliliğini korumak için PII'yi gerçekçi sentezlenmiş verilerle değiştirmek anlamına gelen anonimleştirme yer alır.\n",
        "# Sonuç olarak, işletmelerin makine öğreniminden gerçekten yararlanabilmeleri için, her aşamada veri sızıntısını azaltmak zorunludur. Bu, yalnızca model doğruluğunu artırmakla kalmaz, aynı zamanda karar vermeyi de güçlendirir ve fark edilebilir iş sonuçlarına yol açar."
      ],
      "metadata": {
        "id": "jvrm7eIXRaiS"
      },
      "execution_count": null,
      "outputs": []
    },
    {
      "cell_type": "code",
      "source": [
        "# What is Binary Classification?\n",
        "# In machine learning, binary classification is a supervised learning algorithm that categorizes new observations into one of two classes.\n",
        "# Binary classification (ikili sınıflandırma), makine öğreniminde iki sınıf arasında ayırım yapmayı amaçlayan bir problemdir. Örneğin, e-posta iletilerinin \"spam\" veya \"spam değil\" olarak sınıflandırılması, hasta verilerinin \"hastalıklı\" veya \"sağlıklı\" olarak sınıflandırılması gibi."
      ],
      "metadata": {
        "id": "fSf0OiQoR2Xs"
      },
      "execution_count": null,
      "outputs": []
    },
    {
      "cell_type": "code",
      "source": [
        "# Evaluation of binary classifiers\n",
        "# Model hastaları pozitif olarak başarıyla tahmin ederse, bu durum Gerçek Pozitif (TP) olarak adlandırılır . Model hastaları negatif olarak başarıyla tahmin ederse, buna Gerçek Negatif (TN) denir . İkili sınıflandırıcı bazı hastalara yanlış teşhis de koyabilir. Hastalıklı bir hasta negatif bir test sonucuyla sağlıklı olarak sınıflandırılırsa, bu hataya Yanlış Negatif (FN) denir . Benzer şekilde, sağlıklı bir hasta pozitif bir test sonucuyla hastalıklı olarak sınıflandırılırsa, bu hataya Yanlış Pozitif (FP) denir .\n",
        "\n",
        "# İkili bir sınıflandırıcıyı aşağıdaki parametrelere göre değerlendirebiliriz:\n",
        "\n",
        "# Gerçek Pozitif (TP): Hasta hastadır ve model \"hasta\" öngörüyor\n",
        "# Yanlış Pozitif (FP): Hasta sağlıklıdır ancak model \"hastalıklı\" olduğunu öngörür\n",
        "# Gerçek Negatif (TN): Hasta sağlıklıdır ve model \"sağlıklı\" öngörür\n",
        "# Yanlış Negatif (FN): Hasta hastadır ve model \"sağlıklı\" öngörür\n",
        "\n",
        "# In machine learning, the accuracy score is a metric used to evaluate the performance of a classification model. It represents the proportion of correctly classified instances out of the total number of instances.\n",
        "# Accuracy= (TP + TN) / (TP + TN + FP + FN)\n",
        "# Ayrıca confusion matrix'de bu terimleri açıklar.\n"
      ],
      "metadata": {
        "id": "hmAnl6iRUTJ8"
      },
      "execution_count": null,
      "outputs": []
    },
    {
      "cell_type": "code",
      "source": [
        "# In machine learning, many methods utilize binary classification. The most common are:\n",
        "\n",
        "# Support Vector Machines\n",
        "# Naive Bayes\n",
        "# Nearest Neighbor\n",
        "# Decision Trees\n",
        "# Logistic Regression\n",
        "# Neural Networks"
      ],
      "metadata": {
        "id": "N3tOO5SdVrFw"
      },
      "execution_count": null,
      "outputs": []
    },
    {
      "cell_type": "code",
      "source": [
        "import pandas as pd\n",
        "from sklearn.model_selection import train_test_split\n",
        "from sklearn.linear_model import LogisticRegression\n",
        "from sklearn.metrics import accuracy_score, classification_report\n",
        "from sklearn.preprocessing import StandardScaler\n",
        "\n",
        "train_df = pd.read_csv('train.csv')\n",
        "test_df = pd.read_csv('test.csv')\n",
        "\n",
        "print(train_df.head())"
      ],
      "metadata": {
        "colab": {
          "base_uri": "https://localhost:8080/"
        },
        "id": "TR9m8TWmf_Wc",
        "outputId": "54413516-d4d8-4ac0-c884-5cb6af1569b6"
      },
      "execution_count": null,
      "outputs": [
        {
          "output_type": "stream",
          "name": "stdout",
          "text": [
            "   PassengerId  Survived  Pclass  \\\n",
            "0            1         0       3   \n",
            "1            2         1       1   \n",
            "2            3         1       3   \n",
            "3            4         1       1   \n",
            "4            5         0       3   \n",
            "\n",
            "                                                Name     Sex   Age  SibSp  \\\n",
            "0                            Braund, Mr. Owen Harris    male  22.0      1   \n",
            "1  Cumings, Mrs. John Bradley (Florence Briggs Th...  female  38.0      1   \n",
            "2                             Heikkinen, Miss. Laina  female  26.0      0   \n",
            "3       Futrelle, Mrs. Jacques Heath (Lily May Peel)  female  35.0      1   \n",
            "4                           Allen, Mr. William Henry    male  35.0      0   \n",
            "\n",
            "   Parch            Ticket     Fare Cabin Embarked  \n",
            "0      0         A/5 21171   7.2500   NaN        S  \n",
            "1      0          PC 17599  71.2833   C85        C  \n",
            "2      0  STON/O2. 3101282   7.9250   NaN        S  \n",
            "3      0            113803  53.1000  C123        S  \n",
            "4      0            373450   8.0500   NaN        S  \n"
          ]
        }
      ]
    },
    {
      "cell_type": "code",
      "source": [
        "print(train_df.isnull().sum())"
      ],
      "metadata": {
        "colab": {
          "base_uri": "https://localhost:8080/"
        },
        "id": "Q8cmA4cGh9ME",
        "outputId": "74566de0-8d76-4345-9498-9aedd11c9809"
      },
      "execution_count": null,
      "outputs": [
        {
          "output_type": "stream",
          "name": "stdout",
          "text": [
            "PassengerId      0\n",
            "Survived         0\n",
            "Pclass           0\n",
            "Name             0\n",
            "Sex              0\n",
            "Age            177\n",
            "SibSp            0\n",
            "Parch            0\n",
            "Ticket           0\n",
            "Fare             0\n",
            "Cabin          687\n",
            "Embarked         2\n",
            "dtype: int64\n"
          ]
        }
      ]
    },
    {
      "cell_type": "code",
      "source": [
        "# 'Age' sütunlarını eksik değerler için dolduralım (ortalama ile)\n",
        "train_df['Age'].fillna(train_df['Age'].mean(), inplace=True)\n"
      ],
      "metadata": {
        "id": "n1aD9R91hQgU"
      },
      "execution_count": null,
      "outputs": []
    },
    {
      "cell_type": "code",
      "source": [
        "train_df.drop(columns=['Cabin'], inplace=True)\n",
        "# Cabin sütununu kaldırdık, gereksiz bilgi içeriyor ve çok fazla null değer var."
      ],
      "metadata": {
        "id": "mpORMFLii1fu"
      },
      "execution_count": null,
      "outputs": []
    },
    {
      "cell_type": "code",
      "source": [
        "print(train_df.isnull().sum())"
      ],
      "metadata": {
        "colab": {
          "base_uri": "https://localhost:8080/"
        },
        "id": "BhXXDVPmi8rP",
        "outputId": "d5d7692a-11ee-47e7-a580-89c2d062bb65"
      },
      "execution_count": null,
      "outputs": [
        {
          "output_type": "stream",
          "name": "stdout",
          "text": [
            "PassengerId    0\n",
            "Survived       0\n",
            "Pclass         0\n",
            "Name           0\n",
            "Sex            0\n",
            "Age            0\n",
            "SibSp          0\n",
            "Parch          0\n",
            "Ticket         0\n",
            "Fare           0\n",
            "Embarked       2\n",
            "dtype: int64\n"
          ]
        }
      ]
    },
    {
      "cell_type": "code",
      "source": [
        "print(train_df['Embarked'].mode())"
      ],
      "metadata": {
        "colab": {
          "base_uri": "https://localhost:8080/"
        },
        "id": "uG7XTUZYqpVc",
        "outputId": "a0dba32e-d5f7-4954-ffa3-2eb77ae1d12d"
      },
      "execution_count": null,
      "outputs": [
        {
          "output_type": "stream",
          "name": "stdout",
          "text": [
            "0    S\n",
            "Name: Embarked, dtype: object\n"
          ]
        }
      ]
    },
    {
      "cell_type": "code",
      "source": [
        "# 'Embarked' kolonundaki null değerleri en çok tekrar eden kategorik değer ile yani mod değeri ile dolduralım.\n",
        "# Eksik 'Embarked' değerlerini dolduralım\n",
        "# 'Embarked' sütunundaki en sık görülen değeri buluyoruz\n",
        "most_frequent_embarked = train_df['Embarked'].mode()[0]\n",
        "train_df['Embarked'].fillna(most_frequent_embarked, inplace=True)"
      ],
      "metadata": {
        "id": "v7Nj326Zj8G9"
      },
      "execution_count": null,
      "outputs": []
    },
    {
      "cell_type": "code",
      "source": [
        "# Basit veri ön işleme\n",
        "# Kategorik verileri sayısal verilere dönüştürelim (Örneğin 'Sex' ve 'Embarked' sütunları)\n",
        "train_df['Sex'] = train_df['Sex'].map({'male': 0, 'female': 1})\n",
        "train_df['Embarked'] = train_df['Embarked'].map({'C': 0, 'Q': 1, 'S': 2})"
      ],
      "metadata": {
        "id": "W0wKvaf8g7Zt"
      },
      "execution_count": null,
      "outputs": []
    },
    {
      "cell_type": "code",
      "source": [
        "print(train_df.isnull().sum())"
      ],
      "metadata": {
        "colab": {
          "base_uri": "https://localhost:8080/"
        },
        "id": "qweseS-kjN3n",
        "outputId": "a721c05e-d83a-4ec0-81a2-f28ad63f1ef0"
      },
      "execution_count": null,
      "outputs": [
        {
          "output_type": "stream",
          "name": "stdout",
          "text": [
            "PassengerId    0\n",
            "Survived       0\n",
            "Pclass         0\n",
            "Name           0\n",
            "Sex            0\n",
            "Age            0\n",
            "SibSp          0\n",
            "Parch          0\n",
            "Ticket         0\n",
            "Fare           0\n",
            "Embarked       0\n",
            "dtype: int64\n"
          ]
        }
      ]
    },
    {
      "cell_type": "code",
      "source": [
        "train_df['Survived'].head() # Survived target kolonumuz\n",
        "\n"
      ],
      "metadata": {
        "colab": {
          "base_uri": "https://localhost:8080/",
          "height": 241
        },
        "id": "SB7fvI5QsPXW",
        "outputId": "b7c63e4b-aaab-475f-82dd-844934e328af"
      },
      "execution_count": null,
      "outputs": [
        {
          "output_type": "execute_result",
          "data": {
            "text/plain": [
              "0    0\n",
              "1    1\n",
              "2    1\n",
              "3    1\n",
              "4    0\n",
              "Name: Survived, dtype: int64"
            ],
            "text/html": [
              "<div>\n",
              "<style scoped>\n",
              "    .dataframe tbody tr th:only-of-type {\n",
              "        vertical-align: middle;\n",
              "    }\n",
              "\n",
              "    .dataframe tbody tr th {\n",
              "        vertical-align: top;\n",
              "    }\n",
              "\n",
              "    .dataframe thead th {\n",
              "        text-align: right;\n",
              "    }\n",
              "</style>\n",
              "<table border=\"1\" class=\"dataframe\">\n",
              "  <thead>\n",
              "    <tr style=\"text-align: right;\">\n",
              "      <th></th>\n",
              "      <th>Survived</th>\n",
              "    </tr>\n",
              "  </thead>\n",
              "  <tbody>\n",
              "    <tr>\n",
              "      <th>0</th>\n",
              "      <td>0</td>\n",
              "    </tr>\n",
              "    <tr>\n",
              "      <th>1</th>\n",
              "      <td>1</td>\n",
              "    </tr>\n",
              "    <tr>\n",
              "      <th>2</th>\n",
              "      <td>1</td>\n",
              "    </tr>\n",
              "    <tr>\n",
              "      <th>3</th>\n",
              "      <td>1</td>\n",
              "    </tr>\n",
              "    <tr>\n",
              "      <th>4</th>\n",
              "      <td>0</td>\n",
              "    </tr>\n",
              "  </tbody>\n",
              "</table>\n",
              "</div><br><label><b>dtype:</b> int64</label>"
            ]
          },
          "metadata": {},
          "execution_count": 38
        }
      ]
    },
    {
      "cell_type": "code",
      "source": [
        "train_df['Survived'].value_counts()"
      ],
      "metadata": {
        "colab": {
          "base_uri": "https://localhost:8080/",
          "height": 178
        },
        "id": "tmzXcSoqshf2",
        "outputId": "49713989-fa16-401b-c7d5-19e8b0318694"
      },
      "execution_count": null,
      "outputs": [
        {
          "output_type": "execute_result",
          "data": {
            "text/plain": [
              "Survived\n",
              "0    549\n",
              "1    342\n",
              "Name: count, dtype: int64"
            ],
            "text/html": [
              "<div>\n",
              "<style scoped>\n",
              "    .dataframe tbody tr th:only-of-type {\n",
              "        vertical-align: middle;\n",
              "    }\n",
              "\n",
              "    .dataframe tbody tr th {\n",
              "        vertical-align: top;\n",
              "    }\n",
              "\n",
              "    .dataframe thead th {\n",
              "        text-align: right;\n",
              "    }\n",
              "</style>\n",
              "<table border=\"1\" class=\"dataframe\">\n",
              "  <thead>\n",
              "    <tr style=\"text-align: right;\">\n",
              "      <th></th>\n",
              "      <th>count</th>\n",
              "    </tr>\n",
              "    <tr>\n",
              "      <th>Survived</th>\n",
              "      <th></th>\n",
              "    </tr>\n",
              "  </thead>\n",
              "  <tbody>\n",
              "    <tr>\n",
              "      <th>0</th>\n",
              "      <td>549</td>\n",
              "    </tr>\n",
              "    <tr>\n",
              "      <th>1</th>\n",
              "      <td>342</td>\n",
              "    </tr>\n",
              "  </tbody>\n",
              "</table>\n",
              "</div><br><label><b>dtype:</b> int64</label>"
            ]
          },
          "metadata": {},
          "execution_count": 37
        }
      ]
    },
    {
      "cell_type": "code",
      "source": [
        "# Özellikler ve hedef değişkeni ayıralım\n",
        "X = train_df[['Pclass', 'Sex', 'Age', 'Fare', 'Embarked']]\n",
        "y = train_df['Survived'] # target kolon Survived."
      ],
      "metadata": {
        "id": "DCBWD5K2hays"
      },
      "execution_count": null,
      "outputs": []
    },
    {
      "cell_type": "code",
      "source": [
        "# Eğitim ve test veri setlerine bölelim\n",
        "X_train, X_test, y_train, y_test = train_test_split(X, y, test_size=0.3, random_state=42)\n",
        "\n",
        "\n",
        "# Önemli: Verileri böldükten sonra normalleştirdiğimizi unutmayın . Veri sızıntısını önlemek için herhangi bir veri dönüşümünü eğitim ve test verilerine ayrı ayrı uygulamak iyi bir uygulamadır.\n",
        "\n",
        "# Özellikleri ölçeklendirelim (özellikle Lojistik Regresyon için önemli olabilir)\n",
        "scaler = StandardScaler()\n",
        "X_train_scaled = scaler.fit_transform(X_train)\n",
        "X_test_scaled = scaler.transform(X_test)\n",
        "\n",
        "# Modeli oluşturup eğitelim\n",
        "model = LogisticRegression(max_iter=10000)\n",
        "model.fit(X_train_scaled, y_train)\n",
        "\n",
        "# Test veri seti ile tahminler yapalım\n",
        "y_pred = model.predict(X_test_scaled)\n",
        "\n",
        "# Model performansını değerlendirelim\n",
        "accuracy = accuracy_score(y_test, y_pred)\n",
        "report = classification_report(y_test, y_pred)\n",
        "\n",
        "print(f\"Doğruluk: {accuracy:.2f}\")\n",
        "print(\"Sınıflandırma Raporu:\")\n",
        "print(report)"
      ],
      "metadata": {
        "colab": {
          "base_uri": "https://localhost:8080/"
        },
        "id": "YCCHGqqqhiLz",
        "outputId": "0d25957a-13f3-4c0a-833a-70b3f19d0225"
      },
      "execution_count": null,
      "outputs": [
        {
          "output_type": "stream",
          "name": "stdout",
          "text": [
            "Doğruluk: 0.79\n",
            "Sınıflandırma Raporu:\n",
            "              precision    recall  f1-score   support\n",
            "\n",
            "           0       0.82      0.83      0.83       157\n",
            "           1       0.76      0.74      0.75       111\n",
            "\n",
            "    accuracy                           0.79       268\n",
            "   macro avg       0.79      0.79      0.79       268\n",
            "weighted avg       0.79      0.79      0.79       268\n",
            "\n"
          ]
        }
      ]
    },
    {
      "cell_type": "code",
      "source": [
        "# Makine öğrenmesinde, Precision , özellikle ikili sınıflandırma sorunları bağlamında bir sınıflandırma modelinin performansını değerlendirmek için kullanılan bir ölçüttür. Modelin yaptığı pozitif tahminlerin doğruluğunu ölçer.\n",
        "# Precision = TP / (TP + FP)\n",
        "\n",
        "# Precision, pozitif tahminlerin doğruluğuna odaklanır. Şu soruyu yanıtlar: \"Pozitif olarak sınıflandırılan tüm örneklerden kaç tanesi gerçekten pozitiftir?\"\n",
        "# Recall, modelin tüm pozitif örnekleri bulma becerisine odaklanır. Şu soruyu yanıtlar: \"Gerçek pozitif örneklerin hepsinden, model kaç tanesini doğru bir şekilde tanımladı?\"\n",
        "# Recall, özellikle pozitif örneklerin eksik olmasının maliyetinin yüksek olduğu durumlarda bir sınıflandırma modelinin performansını değerlendirmek için kullanılan bir ölçümdür. Geri çağırma, bir modelin veri kümesindeki tüm ilgili pozitif örnekleri ne kadar etkili bir şekilde belirleyebildiğini ölçer.\n",
        "# Recall = TP / (TP + FN)\n",
        "\n",
        "# Makine öğrenmesinde F1 puanı (veya F1 skoru), bir modelin precision (kesinlik) ve recall (duyarlılık) metriklerinin dengeli bir şekilde değerlendirilmesini sağlar. F1 puanı, özellikle dengesiz veri kümelerinde ve her iki metriğin de önemli olduğu durumlarda kullanışlıdır.\n",
        "# f1-score = 2 * (precision * recall) / (precision + recall)\n",
        "\n",
        "# Support, veri kümesindeki her sınıf için gerçek örnek sayısını ölçer.\n",
        "# Accuracy= (TP + TN) / (TP + TN + FP + FN)\n",
        "# Ayrıca confusion matrix'de bu terimleri açıklar.\n"
      ],
      "metadata": {
        "id": "hFlTU3RIwPFT"
      },
      "execution_count": null,
      "outputs": []
    },
    {
      "cell_type": "code",
      "source": [
        "# Öncelikle gerekli parametreleri elde etmek için karışıklık matrisini hesaplayalım:\n",
        "\n",
        "from sklearn.metrics import confusion_matrix\n",
        "\n",
        "cm = confusion_matrix(y_test, y_pred)\n",
        "\n",
        "TN, FP, FN, TP = confusion_matrix(y_test, y_pred).ravel()\n",
        "\n",
        "print('True Positive(TP)  = ', TP)\n",
        "print('False Positive(FP) = ', FP)\n",
        "print('True Negative(TN)  = ', TN)\n",
        "print('False Negative(FN) = ', FN)"
      ],
      "metadata": {
        "colab": {
          "base_uri": "https://localhost:8080/"
        },
        "id": "UqBdQxtbtb8b",
        "outputId": "f3458f80-5e31-431a-e75e-133160c5bd59"
      },
      "execution_count": null,
      "outputs": [
        {
          "output_type": "stream",
          "name": "stdout",
          "text": [
            "True Positive(TP)  =  82\n",
            "False Positive(FP) =  26\n",
            "True Negative(TN)  =  131\n",
            "False Negative(FN) =  29\n"
          ]
        }
      ]
    },
    {
      "cell_type": "code",
      "source": [
        "accuracy =  (TP + TN) / (TP + FP + TN + FN)\n",
        "\n",
        "print('Accuracy of the binary classifier = {:0.3f}'.format(accuracy))"
      ],
      "metadata": {
        "colab": {
          "base_uri": "https://localhost:8080/"
        },
        "id": "6wXMaRACugwW",
        "outputId": "08d35821-af76-4974-a8a8-1309fd57ff7c"
      },
      "execution_count": null,
      "outputs": [
        {
          "output_type": "stream",
          "name": "stdout",
          "text": [
            "Accuracy of the binary classifier = 0.795\n"
          ]
        }
      ]
    },
    {
      "cell_type": "code",
      "source": [
        "models = {}\n",
        "\n",
        "# Logistic Regression\n",
        "from sklearn.linear_model import LogisticRegression\n",
        "models['Logistic Regression'] = LogisticRegression()\n",
        "\n",
        "# Support Vector Machines\n",
        "from sklearn.svm import LinearSVC\n",
        "models['Support Vector Machines'] = LinearSVC()\n",
        "\n",
        "# Decision Trees\n",
        "from sklearn.tree import DecisionTreeClassifier\n",
        "models['Decision Trees'] = DecisionTreeClassifier()\n",
        "\n",
        "# Random Forest\n",
        "from sklearn.ensemble import RandomForestClassifier\n",
        "models['Random Forest'] = RandomForestClassifier()\n",
        "\n",
        "# Naive Bayes\n",
        "from sklearn.naive_bayes import GaussianNB\n",
        "models['Naive Bayes'] = GaussianNB()\n",
        "\n",
        "# K-Nearest Neighbors\n",
        "from sklearn.neighbors import KNeighborsClassifier\n",
        "models['K-Nearest Neighbor'] = KNeighborsClassifier()"
      ],
      "metadata": {
        "id": "U_8GMcRAu_zU"
      },
      "execution_count": null,
      "outputs": []
    },
    {
      "cell_type": "code",
      "source": [
        "# Performance evaluation of each binary classifier\n",
        "# Now that we'veinitialized the models, we'll loop over each one, train it by calling .fit(), make predictions, calculate metrics, and store each result in a dictionary."
      ],
      "metadata": {
        "id": "PT4wT0h3vBM8"
      },
      "execution_count": null,
      "outputs": []
    },
    {
      "cell_type": "code",
      "source": [
        "from sklearn.metrics import accuracy_score, precision_score, recall_score\n",
        "\n",
        "accuracy, precision, recall = {}, {}, {}\n",
        "\n",
        "for key in models.keys():\n",
        "\n",
        "    # Fit the classifier\n",
        "    models[key].fit(X_train, y_train)\n",
        "\n",
        "    # Make predictions\n",
        "    predictions = models[key].predict(X_test)\n",
        "\n",
        "    # Calculate metrics\n",
        "    accuracy[key] = accuracy_score(predictions, y_test)\n",
        "    precision[key] = precision_score(predictions, y_test)\n",
        "    recall[key] = recall_score(predictions, y_test)"
      ],
      "metadata": {
        "colab": {
          "base_uri": "https://localhost:8080/"
        },
        "id": "WvxHaDbcvZfF",
        "outputId": "7021eca6-e40c-4af6-db92-020d131ff5de"
      },
      "execution_count": null,
      "outputs": [
        {
          "output_type": "stream",
          "name": "stderr",
          "text": [
            "/usr/local/lib/python3.10/dist-packages/sklearn/svm/_classes.py:32: FutureWarning: The default value of `dual` will change from `True` to `'auto'` in 1.5. Set the value of `dual` explicitly to suppress the warning.\n",
            "  warnings.warn(\n",
            "/usr/local/lib/python3.10/dist-packages/sklearn/svm/_base.py:1250: ConvergenceWarning: Liblinear failed to converge, increase the number of iterations.\n",
            "  warnings.warn(\n"
          ]
        }
      ]
    },
    {
      "cell_type": "code",
      "source": [
        "import pandas as pd\n",
        "\n",
        "df_model = pd.DataFrame(index=models.keys(), columns=['Accuracy', 'Precision', 'Recall'])\n",
        "df_model['Accuracy'] = accuracy.values()\n",
        "df_model['Precision'] = precision.values()\n",
        "df_model['Recall'] = recall.values()\n",
        "\n",
        "df_model"
      ],
      "metadata": {
        "colab": {
          "base_uri": "https://localhost:8080/",
          "height": 237
        },
        "id": "BXgQzWySv2Qf",
        "outputId": "2ba3a281-76d2-45d2-a0ee-2bebf262dd39"
      },
      "execution_count": null,
      "outputs": [
        {
          "output_type": "execute_result",
          "data": {
            "text/plain": [
              "                         Accuracy  Precision    Recall\n",
              "Logistic Regression      0.794776   0.738739  0.759259\n",
              "Support Vector Machines  0.634328   0.126126  0.933333\n",
              "Decision Trees           0.753731   0.684685  0.710280\n",
              "Random Forest            0.798507   0.729730  0.771429\n",
              "Naive Bayes              0.783582   0.720721  0.747664\n",
              "K-Nearest Neighbor       0.690299   0.495495  0.670732"
            ],
            "text/html": [
              "\n",
              "  <div id=\"df-6ba2373c-a0f9-4b52-8237-d57d604af2c2\" class=\"colab-df-container\">\n",
              "    <div>\n",
              "<style scoped>\n",
              "    .dataframe tbody tr th:only-of-type {\n",
              "        vertical-align: middle;\n",
              "    }\n",
              "\n",
              "    .dataframe tbody tr th {\n",
              "        vertical-align: top;\n",
              "    }\n",
              "\n",
              "    .dataframe thead th {\n",
              "        text-align: right;\n",
              "    }\n",
              "</style>\n",
              "<table border=\"1\" class=\"dataframe\">\n",
              "  <thead>\n",
              "    <tr style=\"text-align: right;\">\n",
              "      <th></th>\n",
              "      <th>Accuracy</th>\n",
              "      <th>Precision</th>\n",
              "      <th>Recall</th>\n",
              "    </tr>\n",
              "  </thead>\n",
              "  <tbody>\n",
              "    <tr>\n",
              "      <th>Logistic Regression</th>\n",
              "      <td>0.794776</td>\n",
              "      <td>0.738739</td>\n",
              "      <td>0.759259</td>\n",
              "    </tr>\n",
              "    <tr>\n",
              "      <th>Support Vector Machines</th>\n",
              "      <td>0.634328</td>\n",
              "      <td>0.126126</td>\n",
              "      <td>0.933333</td>\n",
              "    </tr>\n",
              "    <tr>\n",
              "      <th>Decision Trees</th>\n",
              "      <td>0.753731</td>\n",
              "      <td>0.684685</td>\n",
              "      <td>0.710280</td>\n",
              "    </tr>\n",
              "    <tr>\n",
              "      <th>Random Forest</th>\n",
              "      <td>0.798507</td>\n",
              "      <td>0.729730</td>\n",
              "      <td>0.771429</td>\n",
              "    </tr>\n",
              "    <tr>\n",
              "      <th>Naive Bayes</th>\n",
              "      <td>0.783582</td>\n",
              "      <td>0.720721</td>\n",
              "      <td>0.747664</td>\n",
              "    </tr>\n",
              "    <tr>\n",
              "      <th>K-Nearest Neighbor</th>\n",
              "      <td>0.690299</td>\n",
              "      <td>0.495495</td>\n",
              "      <td>0.670732</td>\n",
              "    </tr>\n",
              "  </tbody>\n",
              "</table>\n",
              "</div>\n",
              "    <div class=\"colab-df-buttons\">\n",
              "\n",
              "  <div class=\"colab-df-container\">\n",
              "    <button class=\"colab-df-convert\" onclick=\"convertToInteractive('df-6ba2373c-a0f9-4b52-8237-d57d604af2c2')\"\n",
              "            title=\"Convert this dataframe to an interactive table.\"\n",
              "            style=\"display:none;\">\n",
              "\n",
              "  <svg xmlns=\"http://www.w3.org/2000/svg\" height=\"24px\" viewBox=\"0 -960 960 960\">\n",
              "    <path d=\"M120-120v-720h720v720H120Zm60-500h600v-160H180v160Zm220 220h160v-160H400v160Zm0 220h160v-160H400v160ZM180-400h160v-160H180v160Zm440 0h160v-160H620v160ZM180-180h160v-160H180v160Zm440 0h160v-160H620v160Z\"/>\n",
              "  </svg>\n",
              "    </button>\n",
              "\n",
              "  <style>\n",
              "    .colab-df-container {\n",
              "      display:flex;\n",
              "      gap: 12px;\n",
              "    }\n",
              "\n",
              "    .colab-df-convert {\n",
              "      background-color: #E8F0FE;\n",
              "      border: none;\n",
              "      border-radius: 50%;\n",
              "      cursor: pointer;\n",
              "      display: none;\n",
              "      fill: #1967D2;\n",
              "      height: 32px;\n",
              "      padding: 0 0 0 0;\n",
              "      width: 32px;\n",
              "    }\n",
              "\n",
              "    .colab-df-convert:hover {\n",
              "      background-color: #E2EBFA;\n",
              "      box-shadow: 0px 1px 2px rgba(60, 64, 67, 0.3), 0px 1px 3px 1px rgba(60, 64, 67, 0.15);\n",
              "      fill: #174EA6;\n",
              "    }\n",
              "\n",
              "    .colab-df-buttons div {\n",
              "      margin-bottom: 4px;\n",
              "    }\n",
              "\n",
              "    [theme=dark] .colab-df-convert {\n",
              "      background-color: #3B4455;\n",
              "      fill: #D2E3FC;\n",
              "    }\n",
              "\n",
              "    [theme=dark] .colab-df-convert:hover {\n",
              "      background-color: #434B5C;\n",
              "      box-shadow: 0px 1px 3px 1px rgba(0, 0, 0, 0.15);\n",
              "      filter: drop-shadow(0px 1px 2px rgba(0, 0, 0, 0.3));\n",
              "      fill: #FFFFFF;\n",
              "    }\n",
              "  </style>\n",
              "\n",
              "    <script>\n",
              "      const buttonEl =\n",
              "        document.querySelector('#df-6ba2373c-a0f9-4b52-8237-d57d604af2c2 button.colab-df-convert');\n",
              "      buttonEl.style.display =\n",
              "        google.colab.kernel.accessAllowed ? 'block' : 'none';\n",
              "\n",
              "      async function convertToInteractive(key) {\n",
              "        const element = document.querySelector('#df-6ba2373c-a0f9-4b52-8237-d57d604af2c2');\n",
              "        const dataTable =\n",
              "          await google.colab.kernel.invokeFunction('convertToInteractive',\n",
              "                                                    [key], {});\n",
              "        if (!dataTable) return;\n",
              "\n",
              "        const docLinkHtml = 'Like what you see? Visit the ' +\n",
              "          '<a target=\"_blank\" href=https://colab.research.google.com/notebooks/data_table.ipynb>data table notebook</a>'\n",
              "          + ' to learn more about interactive tables.';\n",
              "        element.innerHTML = '';\n",
              "        dataTable['output_type'] = 'display_data';\n",
              "        await google.colab.output.renderOutput(dataTable, element);\n",
              "        const docLink = document.createElement('div');\n",
              "        docLink.innerHTML = docLinkHtml;\n",
              "        element.appendChild(docLink);\n",
              "      }\n",
              "    </script>\n",
              "  </div>\n",
              "\n",
              "\n",
              "<div id=\"df-b993f502-6867-40fa-8cc8-20b2bad16f04\">\n",
              "  <button class=\"colab-df-quickchart\" onclick=\"quickchart('df-b993f502-6867-40fa-8cc8-20b2bad16f04')\"\n",
              "            title=\"Suggest charts\"\n",
              "            style=\"display:none;\">\n",
              "\n",
              "<svg xmlns=\"http://www.w3.org/2000/svg\" height=\"24px\"viewBox=\"0 0 24 24\"\n",
              "     width=\"24px\">\n",
              "    <g>\n",
              "        <path d=\"M19 3H5c-1.1 0-2 .9-2 2v14c0 1.1.9 2 2 2h14c1.1 0 2-.9 2-2V5c0-1.1-.9-2-2-2zM9 17H7v-7h2v7zm4 0h-2V7h2v10zm4 0h-2v-4h2v4z\"/>\n",
              "    </g>\n",
              "</svg>\n",
              "  </button>\n",
              "\n",
              "<style>\n",
              "  .colab-df-quickchart {\n",
              "      --bg-color: #E8F0FE;\n",
              "      --fill-color: #1967D2;\n",
              "      --hover-bg-color: #E2EBFA;\n",
              "      --hover-fill-color: #174EA6;\n",
              "      --disabled-fill-color: #AAA;\n",
              "      --disabled-bg-color: #DDD;\n",
              "  }\n",
              "\n",
              "  [theme=dark] .colab-df-quickchart {\n",
              "      --bg-color: #3B4455;\n",
              "      --fill-color: #D2E3FC;\n",
              "      --hover-bg-color: #434B5C;\n",
              "      --hover-fill-color: #FFFFFF;\n",
              "      --disabled-bg-color: #3B4455;\n",
              "      --disabled-fill-color: #666;\n",
              "  }\n",
              "\n",
              "  .colab-df-quickchart {\n",
              "    background-color: var(--bg-color);\n",
              "    border: none;\n",
              "    border-radius: 50%;\n",
              "    cursor: pointer;\n",
              "    display: none;\n",
              "    fill: var(--fill-color);\n",
              "    height: 32px;\n",
              "    padding: 0;\n",
              "    width: 32px;\n",
              "  }\n",
              "\n",
              "  .colab-df-quickchart:hover {\n",
              "    background-color: var(--hover-bg-color);\n",
              "    box-shadow: 0 1px 2px rgba(60, 64, 67, 0.3), 0 1px 3px 1px rgba(60, 64, 67, 0.15);\n",
              "    fill: var(--button-hover-fill-color);\n",
              "  }\n",
              "\n",
              "  .colab-df-quickchart-complete:disabled,\n",
              "  .colab-df-quickchart-complete:disabled:hover {\n",
              "    background-color: var(--disabled-bg-color);\n",
              "    fill: var(--disabled-fill-color);\n",
              "    box-shadow: none;\n",
              "  }\n",
              "\n",
              "  .colab-df-spinner {\n",
              "    border: 2px solid var(--fill-color);\n",
              "    border-color: transparent;\n",
              "    border-bottom-color: var(--fill-color);\n",
              "    animation:\n",
              "      spin 1s steps(1) infinite;\n",
              "  }\n",
              "\n",
              "  @keyframes spin {\n",
              "    0% {\n",
              "      border-color: transparent;\n",
              "      border-bottom-color: var(--fill-color);\n",
              "      border-left-color: var(--fill-color);\n",
              "    }\n",
              "    20% {\n",
              "      border-color: transparent;\n",
              "      border-left-color: var(--fill-color);\n",
              "      border-top-color: var(--fill-color);\n",
              "    }\n",
              "    30% {\n",
              "      border-color: transparent;\n",
              "      border-left-color: var(--fill-color);\n",
              "      border-top-color: var(--fill-color);\n",
              "      border-right-color: var(--fill-color);\n",
              "    }\n",
              "    40% {\n",
              "      border-color: transparent;\n",
              "      border-right-color: var(--fill-color);\n",
              "      border-top-color: var(--fill-color);\n",
              "    }\n",
              "    60% {\n",
              "      border-color: transparent;\n",
              "      border-right-color: var(--fill-color);\n",
              "    }\n",
              "    80% {\n",
              "      border-color: transparent;\n",
              "      border-right-color: var(--fill-color);\n",
              "      border-bottom-color: var(--fill-color);\n",
              "    }\n",
              "    90% {\n",
              "      border-color: transparent;\n",
              "      border-bottom-color: var(--fill-color);\n",
              "    }\n",
              "  }\n",
              "</style>\n",
              "\n",
              "  <script>\n",
              "    async function quickchart(key) {\n",
              "      const quickchartButtonEl =\n",
              "        document.querySelector('#' + key + ' button');\n",
              "      quickchartButtonEl.disabled = true;  // To prevent multiple clicks.\n",
              "      quickchartButtonEl.classList.add('colab-df-spinner');\n",
              "      try {\n",
              "        const charts = await google.colab.kernel.invokeFunction(\n",
              "            'suggestCharts', [key], {});\n",
              "      } catch (error) {\n",
              "        console.error('Error during call to suggestCharts:', error);\n",
              "      }\n",
              "      quickchartButtonEl.classList.remove('colab-df-spinner');\n",
              "      quickchartButtonEl.classList.add('colab-df-quickchart-complete');\n",
              "    }\n",
              "    (() => {\n",
              "      let quickchartButtonEl =\n",
              "        document.querySelector('#df-b993f502-6867-40fa-8cc8-20b2bad16f04 button');\n",
              "      quickchartButtonEl.style.display =\n",
              "        google.colab.kernel.accessAllowed ? 'block' : 'none';\n",
              "    })();\n",
              "  </script>\n",
              "</div>\n",
              "\n",
              "  <div id=\"id_2b0f92b7-aea0-43e3-9edc-532fd4dd03b7\">\n",
              "    <style>\n",
              "      .colab-df-generate {\n",
              "        background-color: #E8F0FE;\n",
              "        border: none;\n",
              "        border-radius: 50%;\n",
              "        cursor: pointer;\n",
              "        display: none;\n",
              "        fill: #1967D2;\n",
              "        height: 32px;\n",
              "        padding: 0 0 0 0;\n",
              "        width: 32px;\n",
              "      }\n",
              "\n",
              "      .colab-df-generate:hover {\n",
              "        background-color: #E2EBFA;\n",
              "        box-shadow: 0px 1px 2px rgba(60, 64, 67, 0.3), 0px 1px 3px 1px rgba(60, 64, 67, 0.15);\n",
              "        fill: #174EA6;\n",
              "      }\n",
              "\n",
              "      [theme=dark] .colab-df-generate {\n",
              "        background-color: #3B4455;\n",
              "        fill: #D2E3FC;\n",
              "      }\n",
              "\n",
              "      [theme=dark] .colab-df-generate:hover {\n",
              "        background-color: #434B5C;\n",
              "        box-shadow: 0px 1px 3px 1px rgba(0, 0, 0, 0.15);\n",
              "        filter: drop-shadow(0px 1px 2px rgba(0, 0, 0, 0.3));\n",
              "        fill: #FFFFFF;\n",
              "      }\n",
              "    </style>\n",
              "    <button class=\"colab-df-generate\" onclick=\"generateWithVariable('df_model')\"\n",
              "            title=\"Generate code using this dataframe.\"\n",
              "            style=\"display:none;\">\n",
              "\n",
              "  <svg xmlns=\"http://www.w3.org/2000/svg\" height=\"24px\"viewBox=\"0 0 24 24\"\n",
              "       width=\"24px\">\n",
              "    <path d=\"M7,19H8.4L18.45,9,17,7.55,7,17.6ZM5,21V16.75L18.45,3.32a2,2,0,0,1,2.83,0l1.4,1.43a1.91,1.91,0,0,1,.58,1.4,1.91,1.91,0,0,1-.58,1.4L9.25,21ZM18.45,9,17,7.55Zm-12,3A5.31,5.31,0,0,0,4.9,8.1,5.31,5.31,0,0,0,1,6.5,5.31,5.31,0,0,0,4.9,4.9,5.31,5.31,0,0,0,6.5,1,5.31,5.31,0,0,0,8.1,4.9,5.31,5.31,0,0,0,12,6.5,5.46,5.46,0,0,0,6.5,12Z\"/>\n",
              "  </svg>\n",
              "    </button>\n",
              "    <script>\n",
              "      (() => {\n",
              "      const buttonEl =\n",
              "        document.querySelector('#id_2b0f92b7-aea0-43e3-9edc-532fd4dd03b7 button.colab-df-generate');\n",
              "      buttonEl.style.display =\n",
              "        google.colab.kernel.accessAllowed ? 'block' : 'none';\n",
              "\n",
              "      buttonEl.onclick = () => {\n",
              "        google.colab.notebook.generateWithVariable('df_model');\n",
              "      }\n",
              "      })();\n",
              "    </script>\n",
              "  </div>\n",
              "\n",
              "    </div>\n",
              "  </div>\n"
            ],
            "application/vnd.google.colaboratory.intrinsic+json": {
              "type": "dataframe",
              "variable_name": "df_model",
              "summary": "{\n  \"name\": \"df_model\",\n  \"rows\": 6,\n  \"fields\": [\n    {\n      \"column\": \"Accuracy\",\n      \"properties\": {\n        \"dtype\": \"number\",\n        \"std\": 0.06649752062670286,\n        \"min\": 0.6343283582089553,\n        \"max\": 0.7985074626865671,\n        \"num_unique_values\": 6,\n        \"samples\": [\n          0.7947761194029851,\n          0.6343283582089553,\n          0.6902985074626866\n        ],\n        \"semantic_type\": \"\",\n        \"description\": \"\"\n      }\n    },\n    {\n      \"column\": \"Precision\",\n      \"properties\": {\n        \"dtype\": \"number\",\n        \"std\": 0.24144592349387398,\n        \"min\": 0.12612612612612611,\n        \"max\": 0.7387387387387387,\n        \"num_unique_values\": 6,\n        \"samples\": [\n          0.7387387387387387,\n          0.12612612612612611,\n          0.4954954954954955\n        ],\n        \"semantic_type\": \"\",\n        \"description\": \"\"\n      }\n    },\n    {\n      \"column\": \"Recall\",\n      \"properties\": {\n        \"dtype\": \"number\",\n        \"std\": 0.09010048009937632,\n        \"min\": 0.6707317073170732,\n        \"max\": 0.9333333333333333,\n        \"num_unique_values\": 6,\n        \"samples\": [\n          0.7592592592592593,\n          0.9333333333333333,\n          0.6707317073170732\n        ],\n        \"semantic_type\": \"\",\n        \"description\": \"\"\n      }\n    }\n  ]\n}"
            }
          },
          "metadata": {},
          "execution_count": 45
        }
      ]
    },
    {
      "cell_type": "code",
      "source": [
        "import matplotlib.pyplot as plt\n",
        "\n",
        "ax = df_model.plot.barh()\n",
        "ax.legend(\n",
        "    ncol=len(models.keys()),\n",
        "    bbox_to_anchor=(0, 1),\n",
        "    loc='lower left',\n",
        "    prop={'size': 14}\n",
        ")\n",
        "plt.tight_layout()"
      ],
      "metadata": {
        "colab": {
          "base_uri": "https://localhost:8080/",
          "height": 487
        },
        "id": "aFPatqvgzmA6",
        "outputId": "8cf5bb46-3595-43d2-eff0-af00aad2d829"
      },
      "execution_count": null,
      "outputs": [
        {
          "output_type": "display_data",
          "data": {
            "text/plain": [
              "<Figure size 640x480 with 1 Axes>"
            ],
            "image/png": "[encoded data removed]"
          },
          "metadata": {}
        }
      ]
    },
    {
      "cell_type": "code",
      "source": [
        "# Yalnızca varsayılan model parametrelerini kullandığımız için hangi sınıflandırıcının daha iyi olduğunu bilemeyeceğiz. Hangisinin en iyi performansa sahip olduğunu bilmek için önce her algoritmanın parametrelerini optimize etmeliyiz.\n"
      ],
      "metadata": {
        "id": "1LppizzSz5xm"
      },
      "execution_count": null,
      "outputs": []
    }
  ]
}